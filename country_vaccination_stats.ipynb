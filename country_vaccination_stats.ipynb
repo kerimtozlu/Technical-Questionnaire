{
 "cells": [
  {
   "cell_type": "code",
   "execution_count": 150,
   "metadata": {},
   "outputs": [
    {
     "name": "stdout",
     "output_type": "stream",
     "text": [
      "               daily_vaccinations\n",
      "country                          \n",
      "United States            378253.0\n",
      "China                    276786.0\n",
      "India                    173922.0\n",
      "          daily_vaccinations\n",
      "date                        \n",
      "1/6/2021           1485255.0\n"
     ]
    }
   ],
   "source": [
    "# Question 4\n",
    "import pandas as pd\n",
    "data=pd.read_csv(r'C:\\Users\\abdul\\Downloads\\country_vaccination_stats.csv')\n",
    "df=data.copy()\n",
    "df2=df.copy()\n",
    "df2.drop(columns=['date', 'vaccines'],inplace=True)\n",
    "df2[\"daily_vaccinations\"] = df2.groupby(\"country\").transform(lambda x: x.fillna(x.min()))\n",
    "df2['daily_vaccinations']=df2['daily_vaccinations'].fillna(0)\n",
    "df['daily_vaccinations']=df2['daily_vaccinations']\n",
    "\n",
    "\n",
    "# Question 5\n",
    "\n",
    "df_median=df.groupby('country').median()\n",
    "\n",
    "df_median.sort_values(by=['daily_vaccinations'],inplace=True, ascending=False)\n",
    "df_median=df_median.head(3)\n",
    "print(df_median)\n",
    "\n",
    "# Question 6\n",
    "\n",
    "df_group=df.groupby('date').sum()\n",
    "df_group=df.groupby('date').sum()\n",
    "\n",
    "print(df_group[df_group.index=='1/6/2021'])"
   ]
  },
  {
   "cell_type": "code",
   "execution_count": null,
   "metadata": {},
   "outputs": [],
   "source": []
  },
  {
   "cell_type": "code",
   "execution_count": null,
   "metadata": {},
   "outputs": [],
   "source": []
  },
  {
   "cell_type": "code",
   "execution_count": null,
   "metadata": {},
   "outputs": [],
   "source": []
  },
  {
   "cell_type": "code",
   "execution_count": null,
   "metadata": {},
   "outputs": [],
   "source": []
  }
 ],
 "metadata": {
  "kernelspec": {
   "display_name": "Python 3",
   "language": "python",
   "name": "python3"
  },
  "language_info": {
   "codemirror_mode": {
    "name": "ipython",
    "version": 3
   },
   "file_extension": ".py",
   "mimetype": "text/x-python",
   "name": "python",
   "nbconvert_exporter": "python",
   "pygments_lexer": "ipython3",
   "version": "3.8.5"
  }
 },
 "nbformat": 4,
 "nbformat_minor": 4
}
